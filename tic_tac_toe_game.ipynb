{
 "cells": [
  {
   "cell_type": "markdown",
   "id": "030741e7",
   "metadata": {},
   "source": [
    "# 🎮 Tic Tac Toe Game (Tkinter)"
   ]
  },
  {
   "cell_type": "markdown",
   "id": "d3a1985a",
   "metadata": {},
   "source": [
    "This notebook contains a simple Tic Tac Toe game implemented using Python's Tkinter. The code is divided into sections for better readability and used procedural programming"
   ]
  },
  {
   "cell_type": "markdown",
   "id": "832b53b6-7c7c-4822-b58c-85445765c5ba",
   "metadata": {},
   "source": [
    "## Step 1: Import Required Modules\n",
    "* First, we import Tkinter for GUI functionality.\n",
    "* Imports the tkinter module and gives it an alias tk to make it easier to reference. \n",
    "* tkinter is used to create windows, buttons, labels, and other GUI elements in Python."
   ]
  },
  {
   "cell_type": "code",
   "execution_count": 109,
   "id": "71b3be98",
   "metadata": {},
   "outputs": [],
   "source": [
    "\n",
    "import tkinter as tk\n",
    "from tkinter import messagebox\n"
   ]
  },
  {
   "cell_type": "markdown",
   "id": "736333ee",
   "metadata": {},
   "source": [
    "## Part 2: Initialize Global Variables\n",
    "\n",
    "* This variable stores the current player's symbol. In Tic-Tac-Toe, players alternate between using \"X\" and \"O.\" Initially, it is set to \"X,\" meaning player \"X\" will make the first move.\n",
    "* Then, it initializes the game board as a list with 9 empty strings (\"\"), representing a 3x3 grid in the game and finally, initializes an empty list called buttons"
   ]
  },
  {
   "cell_type": "code",
   "execution_count": 111,
   "id": "9f5e1d78",
   "metadata": {},
   "outputs": [],
   "source": [
    "\n",
    "# Initialize global variables\n",
    "current_player = \"X\"\n",
    "board = [\"\"] * 9\n",
    "buttons = []\n"
   ]
  },
  {
   "cell_type": "markdown",
   "id": "ec34d4f7",
   "metadata": {},
   "source": [
    "## Part 3: Create the Game Window\n",
    "\n",
    "* Defines a function called create_window() that sets up the graphical user interface (GUI) for a Tic-Tac-Toe game using the tkinter library.\n",
    "window = tk.Tk(): This creates a new Tk window, which is the main window for the GUI.\n",
    "* Then, Sets the window title to \"Group 8 Project - Tic Tac Toe\" and change the background color of the window to light blue<br> \n",
    "* After creting the board, the \"for i in range(3):for j in range(3):\" loops creates a 3x3 grid of buttons, representing the 9 cells of a Tic-Tac-Toe board.\n",
    "* command=lambda idx=i*3+j: on_click(idx, window): This sets a callback function (on_click) that will be triggered when a button is clicked. Additonal button for reset funtion as well. \n",
    "* Finally, window.mainloop(): This starts the main event loop of the tkinter application. This loop waits for events (like button clicks) and handles them until the user closes the window.\n"
   ]
  },
  {
   "cell_type": "code",
   "execution_count": 113,
   "id": "a2abf754",
   "metadata": {},
   "outputs": [],
   "source": [
    "\n",
    "def create_window():\n",
    "    global buttons\n",
    "    window = tk.Tk()\n",
    "    window.title(\"Group 8 Project - Tic Tac Toe\")  # Set title\n",
    "    window.config(bg=\"lightblue\")  # Set window background to light blue\n",
    "\n",
    "    for i in range(3):\n",
    "        for j in range(3):\n",
    "            btn = tk.Button(window, text=\"\", font=(\"Arial\", 25, \"bold\"), height=3, width=6,\n",
    "                            command=lambda idx=i*3+j: on_click(idx, window), bg=\"lightblue\")  # Increase size of grid buttons\n",
    "            btn.grid(row=i, column=j, padx=5, pady=5)  # Add some padding for better spacing\n",
    "            buttons.append(btn)\n",
    "\n",
    "    reset_button = tk.Button(window, text=\"Reset\", font=(\"Arial\", 12, \"bold\"),\n",
    "                             command=lambda: reset_board(window), bg=\"lightblue\", height=2, width=12)  # Smaller Reset button\n",
    "    reset_button.grid(row=3, column=0, columnspan=3, padx=5, pady=5)\n",
    "\n",
    "    window.mainloop()\n"
   ]
  },
  {
   "cell_type": "markdown",
   "id": "0cc822fb",
   "metadata": {},
   "source": [
    "## Part 4: Handle Button Clicks\n",
    "\n",
    "* The function on_click takes two arguments. \n",
    "* Check if the clicked position is empty and if there's no winner yet using \"if board[idx] == \"\" and not check_winner():\" condition where idx is the index of the button that was clicked.\n",
    "* Then, for each click, the button will be updated to dark blue, and the winner will be checked.\n",
    "* lastly, it switches the turn to the other player"
   ]
  },
  {
   "cell_type": "code",
   "execution_count": 115,
   "id": "df3e449e",
   "metadata": {},
   "outputs": [],
   "source": [
    "\n",
    "def on_click(idx, window):\n",
    "    global current_player, board\n",
    "    if board[idx] == \"\" and not check_winner():\n",
    "        board[idx] = current_player\n",
    "        buttons[idx].config(text=current_player, fg=\"darkblue\")  # Set text color to dark blue\n",
    "\n",
    "        if check_winner():\n",
    "            messagebox.showinfo(\"Game Over\", f\"Player {current_player} wins!\")\n",
    "            return\n",
    "\n",
    "        if \"\" not in board:\n",
    "            messagebox.showinfo(\"Game Over\", \"It's a tie!\")\n",
    "            return\n",
    "\n",
    "        current_player = \"O\" if current_player == \"X\" else \"X\"\n"
   ]
  },
  {
   "cell_type": "markdown",
   "id": "11f42ea3",
   "metadata": {},
   "source": [
    "## Part 5: Check for a Winner\n",
    "\n",
    "* win_conditions is a list of tuples. Each tuple contains three indices that represent a possible winning combination in the Tic-Tac-Toe grid (3x3)\n",
    "* it checks whether the values at the three positions a, b, and c in the board list are the same \"(board[a] == board[b] == board[c])\" and also not an empty string \"(board[a] != \"\")\", meaning that there is a symbol (either \"X\" or \"O\") in all three positions\n",
    "* then it will be marked as Lightgreen and return true as winner has been found\n",
    "* else return false, meaning the game is still ongoing. "
   ]
  },
  {
   "cell_type": "code",
   "execution_count": 117,
   "id": "9472a4de",
   "metadata": {},
   "outputs": [],
   "source": [
    "\n",
    "def check_winner():\n",
    "    global board, buttons\n",
    "    win_conditions = [(0, 1, 2), (3, 4, 5), (6, 7, 8),\n",
    "                      (0, 3, 6), (1, 4, 7), (2, 5, 8),\n",
    "                      (0, 4, 8), (2, 4, 6)]\n",
    "    for a, b, c in win_conditions:\n",
    "        if board[a] == board[b] == board[c] and board[a] != \"\":\n",
    "            # Highlight winning buttons with green\n",
    "            for btn in (buttons[a], buttons[b], buttons[c]):\n",
    "                btn.config(bg=\"lightgreen\")  # Highlight winning cells in green\n",
    "            return True\n",
    "    return False\n"
   ]
  },
  {
   "cell_type": "markdown",
   "id": "74487bcc",
   "metadata": {},
   "source": [
    "## Part 6: Reset the Board\n",
    "* The \"reset_board\" function resets the game’s state by clearing the game board and setting the current_player back to \"X\".\n",
    "* This function can be triggered when the user clicks the \"Reset\" button to restart the game."
   ]
  },
  {
   "cell_type": "code",
   "execution_count": 119,
   "id": "ffbdd115",
   "metadata": {},
   "outputs": [],
   "source": [
    "\n",
    "def reset_board(window):\n",
    "    global board, current_player\n",
    "    board = [\"\"] * 9\n",
    "    current_player = \"X\"\n",
    "    for btn in buttons:\n",
    "        btn.config(text=\"\", bg=\"lightblue\")  # Reset the buttons' background color to light blue\n"
   ]
  },
  {
   "cell_type": "markdown",
   "id": "19966223",
   "metadata": {},
   "source": [
    "## Part 7: Run the Game\n",
    "* The line \"create_window()\" runs the game by calling the create_window function, which sets up and displays the entire graphical user interface (GUI) for the Tic-Tac-Toe game\n",
    "* This line essentially runs the game and allows users to interact with the GUI to play Tic-Tac-Toe."
   ]
  },
  {
   "cell_type": "code",
   "execution_count": 121,
   "id": "16ca455f",
   "metadata": {},
   "outputs": [],
   "source": [
    "\n",
    "# Run the game\n",
    "create_window()\n"
   ]
  },
  {
   "cell_type": "code",
   "execution_count": null,
   "id": "1590ba6b-0c5a-480b-8bb6-4cf545e3a3ae",
   "metadata": {},
   "outputs": [],
   "source": []
  }
 ],
 "metadata": {
  "kernelspec": {
   "display_name": "Python [conda env:base] *",
   "language": "python",
   "name": "conda-base-py"
  },
  "language_info": {
   "codemirror_mode": {
    "name": "ipython",
    "version": 3
   },
   "file_extension": ".py",
   "mimetype": "text/x-python",
   "name": "python",
   "nbconvert_exporter": "python",
   "pygments_lexer": "ipython3",
   "version": "3.12.3"
  }
 },
 "nbformat": 4,
 "nbformat_minor": 5
}
